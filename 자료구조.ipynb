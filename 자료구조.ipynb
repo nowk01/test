{
  "cells": [
    {
      "cell_type": "markdown",
      "metadata": {
        "id": "view-in-github",
        "colab_type": "text"
      },
      "source": [
        "<a href=\"https://colab.research.google.com/github/nowk01/test0101/blob/main/%EC%9E%90%EB%A3%8C%EA%B5%AC%EC%A1%B0.ipynb\" target=\"_parent\"><img src=\"https://colab.research.google.com/assets/colab-badge.svg\" alt=\"Open In Colab\"/></a>"
      ]
    },
    {
      "cell_type": "code",
      "execution_count": null,
      "metadata": {
        "id": "y6RgW4nYxrMr"
      },
      "outputs": [],
      "source": [
        "# 1. 정수 하나를 입력받아 그 수가 짝수인지, 홀수인지를 판별하는 프로그램을 작성하시오.\n",
        "a=int(input())\n",
        "if a%2==0:\n",
        "  print(\"짝수\")\n",
        "else:\n",
        "  print(\"홀수\")"
      ]
    },
    {
      "cell_type": "code",
      "execution_count": null,
      "metadata": {
        "id": "CVoOZXXyxrIW"
      },
      "outputs": [],
      "source": [
        "# 2  두 정수 a, b를 입력받아 더 큰 수를 구하여 출력하는 프로그램을 작성하시오.\n",
        "a,b=map(int,input().split(','))\n",
        "if a>b:\n",
        "  print(a)\n",
        "elif a<b:\n",
        "  print(b)\n",
        "else:\n",
        "  print(\"같다\")"
      ]
    },
    {
      "cell_type": "code",
      "execution_count": null,
      "metadata": {
        "id": "gZg8YGslxrEG"
      },
      "outputs": [],
      "source": [
        "# 3. 임의의 두 정수를 입력받아 큰수에서 작은 수를 뺀 결과와 나눈 결과를 출력하는 프로그램을 작성하시오.\n",
        "a,b=map(int,input().split(','))\n",
        "if a>b :\n",
        "  print(a-b,a/b)\n",
        "elif a<b :\n",
        "  print(b-a,b/a)\n",
        "else:\n",
        "  print(0,1)"
      ]
    },
    {
      "cell_type": "code",
      "execution_count": null,
      "metadata": {
        "id": "sgcnvoyfxq_3"
      },
      "outputs": [],
      "source": [
        "# 4. 임의의 정수 a를 입력받아 1~10 범위의 수이면 “OK\"를, 그렇지 않으면 ”NOK\"를 출력하시오.\n",
        "a=int(input())\n",
        "if 1 < a < 10:\n",
        "  print(\"OK\")\n",
        "else:\n",
        "  print(\"NOK\")"
      ]
    },
    {
      "cell_type": "code",
      "execution_count": null,
      "metadata": {
        "id": "C_yMBzIlxq5I"
      },
      "outputs": [],
      "source": [
        "# 5. 임의의 정수 a를 입력받아 1이하이거나 10 이상의 수이면 “OK\"를, 그렇지 않으면 ”NOK\"를 출력.\n",
        "a=int(input())\n",
        "if 1< a < 10:\n",
        "  print(\"NOK\")\n",
        "else:\n",
        "  print(\"OK\")"
      ]
    },
    {
      "cell_type": "code",
      "execution_count": null,
      "metadata": {
        "id": "M_FX3r_YxqVv"
      },
      "outputs": [],
      "source": [
        "# 6. 입력된 실수가 [1~10) 사이이면 입력값의 2배 값을 출력하고, 그렇지 않으면 3배 값을 출력하는 프로그램을 작성하시오. \n",
        "a=float(input())\n",
        "if 1<= a < 10:\n",
        "  print(2*a)\n",
        "else:\n",
        "  print(3*a)"
      ]
    },
    {
      "cell_type": "code",
      "execution_count": null,
      "metadata": {
        "id": "2FbDJXbC050V"
      },
      "outputs": [],
      "source": [
        "# 7. 임의의 문자를 입력받아 그 문자가 대문자인지 아닌지를 판별하는 프로그램을 작성하시오. \n",
        "a=input(\"알파벳 입력\")\n",
        "if a.islower():\n",
        "  print(\"소문자\")\n",
        "else:\n",
        "  print(\"대문자\")"
      ]
    },
    {
      "cell_type": "code",
      "execution_count": null,
      "metadata": {
        "id": "letxpZp427g0"
      },
      "outputs": [],
      "source": [
        "# 8. 임의의 문자 ch를 입력받아 그 문자가 'y' 또는 'Y' 또는 개행문자(‘\\n')이면 “OK\"를, 그렇지 않으면 ”NOK\"를 출력하시오.\n",
        "ch=input('문자입력')\n",
        "if ch in'yY\\\\n' :\n",
        "  print(\"OK\")\n",
        "else:\n",
        "  print(\"NOK\")"
      ]
    },
    {
      "cell_type": "code",
      "execution_count": null,
      "metadata": {
        "id": "zehRz_g93IVh"
      },
      "outputs": [],
      "source": [
        "# 9. 임의의 문자를 입력받아 대문자인지, 소문자인지, 기타의 문자인지를 판별하는 프로그램을 작성하시오.\n",
        "a=input()\n",
        "if a.islower():\n",
        "  print(\"소문자\")\n",
        "elif a.isupper():\n",
        "  print(\"대문자\")\n",
        "else:\n",
        "  print(\"기타문자\")"
      ]
    },
    {
      "cell_type": "code",
      "execution_count": null,
      "metadata": {
        "id": "Cnl7nR9d3cpe"
      },
      "outputs": [],
      "source": [
        "# 10. 임의의 정수 a를 입력받아 [1..10] 범위의 수가 아니면 “ERROR\"를 출력하고, 1~10 범위의 수이지만 3의 배수가 아니면 “OK\"를, 그렇지 않으면 ”NOK\"를 출력하시오.\n",
        "a= int(input())\n",
        "if 1<= a <= 10:\n",
        "  if a%3==0:\n",
        "    print(\"NOK\")\n",
        "  else:\n",
        "    print(\"OK\")\n",
        "else:\n",
        "  print(\"ERROR\")"
      ]
    },
    {
      "cell_type": "code",
      "execution_count": null,
      "metadata": {
        "colab": {
          "base_uri": "https://localhost:8080/"
        },
        "id": "2kru3RD14a1A",
        "outputId": "3518f3ae-6d42-432a-e23f-5fcb1c7decae"
      },
      "outputs": [
        {
          "name": "stdout",
          "output_type": "stream",
          "text": [
            "5\n",
            "15\n"
          ]
        }
      ],
      "source": [
        "# 11. 임의의 양의 정수 n을 입력받아 1에서 n까지의 합을 구하시오.\n",
        "n= int(input())\n",
        "s=0\n",
        "for i in range(1,n+1):\n",
        "  s+=i\n",
        "print(s)"
      ]
    },
    {
      "cell_type": "code",
      "execution_count": null,
      "metadata": {
        "id": "WL_Pcizy5o4r"
      },
      "outputs": [],
      "source": [
        "# 12. 임의의 양의 정수 n을 입력받아 n!을 구하시오.\n",
        "n= int(input())\n",
        "s=1\n",
        "for i in range(2,n+1):\n",
        "  s*=i\n",
        "print(s)"
      ]
    },
    {
      "cell_type": "code",
      "execution_count": null,
      "metadata": {
        "id": "3wR9Wo_W6Qky"
      },
      "outputs": [],
      "source": [
        "# 13. 두 정수 a, b를 입력받아 [a, b] 사이의 홀수의 개수와 합을 구하는 프로그램을 작성하시오.\n",
        "a,b=map(int,input().split(','))\n",
        "s=0 ; n=0\n",
        "if a>b:\n",
        "  for i in range(b,a+1):\n",
        "    if i%2!=0:\n",
        "      s+=i ; n+=1\n",
        "  print(f\"홀수의 개수는 {n}이고 홀수의 합은 {s}\")\n",
        "elif a<b:\n",
        "  for i in range(a,b+1):\n",
        "    if i%2!=0:\n",
        "      s+=i ; n+=1\n",
        "  print(f\"홀수의 개수는 {n}이고 홀수의 합은 {s}\")   "
      ]
    },
    {
      "cell_type": "code",
      "execution_count": null,
      "metadata": {
        "id": "WXAKDgPW8E-1"
      },
      "outputs": [],
      "source": [
        "# 14. 100 이하의 자연수중 3의 배수이거나 5의 배수이면서 15의 배수가 아닌 수들의 합을 구하시오. \n",
        "s=0\n",
        "for i in range(1,101):\n",
        "  if (i%3==0 or i%5==0) and i%15!=0:\n",
        "    s+=i\n",
        "print(s)"
      ]
    },
    {
      "cell_type": "code",
      "execution_count": null,
      "metadata": {
        "colab": {
          "base_uri": "https://localhost:8080/"
        },
        "id": "F2_p_7do8vzu",
        "outputId": "2ed9f427-07d0-4e93-f83f-75e9f0a7e037"
      },
      "outputs": [
        {
          "name": "stdout",
          "output_type": "stream",
          "text": [
            "양의 정수를 입력하시오:15\n",
            "15의 배수: [15, 30, 45, 60, 75, 90]\n",
            "15의 배수의 개수: 6\n"
          ]
        }
      ],
      "source": [
        "# 15. 100 이하의 임의의 양의 정수 n을 입력받아 1~100 사이에서 n의 배수와 n의 배수의 개수를 출력하시오.\n",
        "# 예> 양의 정수를 입력하시오 : 15\n",
        "# 15의 배수 : 15, 30, 45, 60, 75, 90\n",
        "# 15의 배수의 개수 : 6\n",
        "n=int(input('양의 정수를 입력하시오:'))\n",
        "k=0\n",
        "l=[]\n",
        "for i in range(1,101):\n",
        "  if i%n == 0:\n",
        "    k=k+1\n",
        "    l.append(i)\n",
        "print(f\"{n}의 배수: {l}\\n{n}의 배수의 개수: {k}\")"
      ]
    },
    {
      "cell_type": "code",
      "execution_count": null,
      "metadata": {
        "colab": {
          "base_uri": "https://localhost:8080/"
        },
        "id": "t9Ws6iwY92Vi",
        "outputId": "0b11e98c-5d24-41f6-cc17-4f1b0cea01f4"
      },
      "outputs": [
        {
          "name": "stdout",
          "output_type": "stream",
          "text": [
            "1684\n"
          ]
        }
      ],
      "source": [
        "# 16. 1+2-3+4+5-6+7+8-9+...-99+100=?\n",
        "s=0 \n",
        "for i in range(1,101,1):\n",
        "  if i%3==0:\n",
        "    s-=i\n",
        "  else: \n",
        "    s+=i\n",
        "print(s)"
      ]
    },
    {
      "cell_type": "code",
      "execution_count": null,
      "metadata": {
        "colab": {
          "base_uri": "https://localhost:8080/"
        },
        "id": "sxYLoVDL-qz1",
        "outputId": "3e63da73-b404-4052-e1a5-b32bbe4b6edf"
      },
      "outputs": [
        {
          "name": "stdout",
          "output_type": "stream",
          "text": [
            "171700\n"
          ]
        }
      ],
      "source": [
        "# 17. 1+(1+2)+(1+2+3)+...+(1+2+3+...+100)=?\n",
        "s=0\n",
        "for i in range(1,101):\n",
        "  for a in range(1,i+1):\n",
        "    s+=a\n",
        "print(s)"
      ]
    },
    {
      "cell_type": "code",
      "execution_count": null,
      "metadata": {
        "id": "mUMfNrNX_Nb3"
      },
      "outputs": [],
      "source": [
        "# 18. 5명의 학생에 대한 번호, 중간 기말 점수를 정수 값으로 입력받아 총점, 평균(소수 둘째자리까지), 학점을 구하여 출력하시오. 평균이 같은 학생은 없다고 가정.\n",
        "for i in range(5):\n",
        "    a,b,c=map(int,input(\"번호,중간,기말 순서대로 입력\").split(','))\n",
        "    d = (b+c)/2\n",
        "    print(f\"총점은 {b+c}, 평균은 { round(d,2) }\")\n",
        "    if 90<=d<=100:\n",
        "      print('등급은 A 입니다')\n",
        "    elif 80<=d<90:\n",
        "      print('등급은 B 입니다')\n",
        "    elif 60<=d<80:\n",
        "      print('등급은 C 입니다')\n",
        "    elif 0<=d<60:\n",
        "      print('등급은 F 입니다')"
      ]
    },
    {
      "cell_type": "code",
      "execution_count": null,
      "metadata": {
        "colab": {
          "background_save": true,
          "base_uri": "https://localhost:8080/"
        },
        "id": "DLWALwOB_ikl",
        "outputId": "12d508df-5e42-40bb-c774-f3f89f5b8d0c"
      },
      "outputs": [
        {
          "name": "stdout",
          "output_type": "stream",
          "text": [
            "100\n"
          ]
        }
      ],
      "source": [
        "# 19. 하나의 점수를 입력받아 출력하시오. 단, 입력된 점수가 [0,100] 범위를 벗어나면 재입력 받으시오.\n",
        "a=int(input('점수를 입력하세요'))\n",
        "while  not 0<=a<=100:\n",
        "    a=int(input('점수를 입력하세요'))\n",
        "print(a)"
      ]
    },
    {
      "cell_type": "code",
      "execution_count": null,
      "metadata": {
        "id": "cQ_cl_B8_kSD"
      },
      "outputs": [],
      "source": [
        "# 20. 임의의 정수를 하나 입력받아 그 수가 소수인지를 판별하는 프로그램을 작성하시오. 소수란 1과 자기 자신 이외에는 나누어지지 않는 수를 말한다.\n",
        "n=int(input('정수를 입력하시오 '))\n",
        "c=0\n",
        "for i in range(1,n+1,1):\n",
        "  if n%i==0:\n",
        "    c+=1\n",
        "  elif n==i:\n",
        "    c+=1\n",
        "if c==2:\n",
        "  print(f\"{n}은(는) 소수 입니다.\")\n",
        "else:\n",
        "  print(f\"{n}은(는) 소수가 아닙니다.\") "
      ]
    },
    {
      "cell_type": "code",
      "source": [
        "#################################################################################################################################################################################"
      ],
      "metadata": {
        "id": "vMgIgs-KTLZY"
      },
      "execution_count": null,
      "outputs": []
    },
    {
      "cell_type": "code",
      "source": [
        "# 7. 하나의 리스트를 넘겨받아 가장 큰 수와 가장 작은 수의 차를 구하여 return하는 함수 f7()를 정의하시오.\n",
        "n=int(input(\"리스트 갯수: \"))\n",
        "a=[]\n",
        "for i in range(n):\n",
        "  x = int(input(\"숫자 입력: \"))\n",
        "  a.append(x)\n",
        "\n",
        "def f7(x):\n",
        "  x.sort()\n",
        "  return x[len(x)-1]-x[0]\n",
        "\n",
        "print(f7(a))"
      ],
      "metadata": {
        "colab": {
          "base_uri": "https://localhost:8080/"
        },
        "id": "40si8wZhTV3Y",
        "outputId": "80d4a8ea-bebb-4107-d9a5-11c2a683bc6c"
      },
      "execution_count": 7,
      "outputs": [
        {
          "output_type": "stream",
          "name": "stdout",
          "text": [
            "리스트 갯수: 5\n",
            "숫자 입력: 3\n",
            "숫자 입력: 1\n",
            "숫자 입력: 6\n",
            "숫자 입력: 4\n",
            "숫자 입력: 9\n",
            "8\n"
          ]
        }
      ]
    },
    {
      "cell_type": "code",
      "source": [
        "# 8. 하나의 리스트를 넘겨받아 전체 원소의 평균을 구하여 return하는 함수 f8()를 정의하시오.\n",
        "a=[1,2,3,4,5]\n",
        "def f8(x):\n",
        "  mean = sum(x) / len(x)\n",
        "  return mean\n",
        "\n",
        "print(f8(a))"
      ],
      "metadata": {
        "id": "Ie0I-vdbTZF4",
        "colab": {
          "base_uri": "https://localhost:8080/"
        },
        "outputId": "ddcc5fad-4708-4037-939c-fbbb02ed23a2"
      },
      "execution_count": 8,
      "outputs": [
        {
          "output_type": "stream",
          "name": "stdout",
          "text": [
            "3.0\n"
          ]
        }
      ]
    }
  ],
  "metadata": {
    "colab": {
      "provenance": [],
      "authorship_tag": "ABX9TyM3l0t3IDDIYuwVeAYSUwJw",
      "include_colab_link": true
    },
    "kernelspec": {
      "display_name": "Python 3",
      "name": "python3"
    },
    "language_info": {
      "name": "python"
    }
  },
  "nbformat": 4,
  "nbformat_minor": 0
}